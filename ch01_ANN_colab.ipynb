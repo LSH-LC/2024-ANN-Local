{
  "nbformat": 4,
  "nbformat_minor": 0,
  "metadata": {
    "colab": {
      "provenance": [],
      "gpuType": "T4",
      "authorship_tag": "ABX9TyMl58LH5Un3iTl8KkKY/OGZ",
      "include_colab_link": true
    },
    "kernelspec": {
      "name": "python3",
      "display_name": "Python 3"
    },
    "language_info": {
      "name": "python"
    },
    "accelerator": "GPU"
  },
  "cells": [
    {
      "cell_type": "markdown",
      "metadata": {
        "id": "view-in-github",
        "colab_type": "text"
      },
      "source": [
        "<a href=\"https://colab.research.google.com/github/LSH-LC/2024-ANN-Local/blob/main/ch01_ANN_colab.ipynb\" target=\"_parent\"><img src=\"https://colab.research.google.com/assets/colab-badge.svg\" alt=\"Open In Colab\"/></a>"
      ]
    },
    {
      "cell_type": "code",
      "execution_count": null,
      "metadata": {
        "colab": {
          "base_uri": "https://localhost:8080/"
        },
        "id": "NsccZV2cf7Ks",
        "outputId": "7bbd9da2-286c-4a1e-a75d-5d9147724bae"
      },
      "outputs": [
        {
          "output_type": "stream",
          "name": "stdout",
          "text": [
            "Hello, Deeplearning!\n"
          ]
        }
      ],
      "source": [
        "print(\"Hello, Deeplearning!\")"
      ]
    },
    {
      "cell_type": "code",
      "source": [
        "import tensorflow as tf\n",
        "print(tf.__version__)"
      ],
      "metadata": {
        "colab": {
          "base_uri": "https://localhost:8080/"
        },
        "id": "789SJIQKhw4g",
        "outputId": "c2733a91-aacc-433d-8dd1-e4d487d0eb4d"
      },
      "execution_count": null,
      "outputs": [
        {
          "output_type": "stream",
          "name": "stdout",
          "text": [
            "2.17.0\n"
          ]
        }
      ]
    },
    {
      "cell_type": "markdown",
      "source": [
        "모두의 딥러닝\n",
        "#모두의 딥러닝\n",
        "##모두의 딥러닝\n",
        "###모두의 딥러닝"
      ],
      "metadata": {
        "id": "K5syJIs7iAPp"
      }
    }
  ]
}