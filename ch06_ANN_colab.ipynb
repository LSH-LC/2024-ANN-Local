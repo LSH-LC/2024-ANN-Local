{
  "cells": [
    {
      "cell_type": "markdown",
      "metadata": {
        "id": "view-in-github",
        "colab_type": "text"
      },
      "source": [
        "<a href=\"https://colab.research.google.com/github/LSH-LC/2024-ANN-Local/blob/main/ch06_ANN_colab.ipynb\" target=\"_parent\"><img src=\"https://colab.research.google.com/assets/colab-badge.svg\" alt=\"Open In Colab\"/></a>"
      ]
    },
    {
      "cell_type": "markdown",
      "id": "14f3d9bb",
      "metadata": {
        "id": "14f3d9bb"
      },
      "source": [
        "# 6장. 로지스틱 회귀 모델: 참 거짓 판단하기"
      ]
    },
    {
      "cell_type": "markdown",
      "id": "31aa0af8",
      "metadata": {
        "id": "31aa0af8"
      },
      "source": [
        "## 5. 텐서플로에서 실행하는 로지스틱 회귀 모델"
      ]
    },
    {
      "cell_type": "markdown",
      "id": "3bd0ceed",
      "metadata": {
        "id": "3bd0ceed"
      },
      "source": [
        "### 1.환경 준비"
      ]
    },
    {
      "cell_type": "code",
      "execution_count": 11,
      "id": "38ce6ac5",
      "metadata": {
        "id": "38ce6ac5"
      },
      "outputs": [],
      "source": [
        "import numpy as np\n",
        "import matplotlib.pyplot as plt\n",
        "from tensorflow.keras.models import Sequential\n",
        "from tensorflow.keras.layers import Dense"
      ]
    },
    {
      "cell_type": "markdown",
      "id": "00f9c412",
      "metadata": {
        "id": "00f9c412"
      },
      "source": [
        "### 2. 데이터 준비"
      ]
    },
    {
      "cell_type": "code",
      "execution_count": 12,
      "id": "92e915e0",
      "metadata": {
        "id": "92e915e0"
      },
      "outputs": [],
      "source": [
        "x = np.array([2, 4, 6, 8, 10, 12, 14])\n",
        "y = np.array([0, 0, 0, 1, 1, 1, 1])"
      ]
    },
    {
      "cell_type": "markdown",
      "id": "605e6ad0",
      "metadata": {
        "id": "605e6ad0"
      },
      "source": [
        "### 3. 모델 실행"
      ]
    },
    {
      "cell_type": "code",
      "execution_count": 13,
      "id": "f2735f67",
      "metadata": {
        "id": "f2735f67",
        "outputId": "fc86cc3e-814b-49fe-f237-6796876b1e46",
        "colab": {
          "base_uri": "https://localhost:8080/"
        }
      },
      "outputs": [
        {
          "output_type": "execute_result",
          "data": {
            "text/plain": [
              "<keras.src.callbacks.History at 0x7df0f4646c80>"
            ]
          },
          "metadata": {},
          "execution_count": 13
        }
      ],
      "source": [
        "model = Sequential()\n",
        "model.add(Dense(1, input_dim=1, activation='sigmoid'))\n",
        "\n",
        "# 교차 엔트로피 오차 함수를 이용하기 위하여 'binary_crossentropy'로 설정합니다.\n",
        "model.compile(optimizer='sgd' ,loss='binary_crossentropy')\n",
        "model.fit(x, y, epochs=5000, verbose=0)"
      ]
    },
    {
      "cell_type": "markdown",
      "id": "514ecfcd",
      "metadata": {
        "id": "514ecfcd"
      },
      "source": [
        "### 4. 모델 테스트"
      ]
    },
    {
      "cell_type": "code",
      "execution_count": 14,
      "id": "669c2350",
      "metadata": {
        "id": "669c2350",
        "outputId": "213d5f32-e066-449f-f7fe-9638152b3112",
        "colab": {
          "base_uri": "https://localhost:8080/",
          "height": 486
        }
      },
      "outputs": [
        {
          "output_type": "stream",
          "name": "stderr",
          "text": [
            "WARNING:tensorflow:5 out of the last 5 calls to <function Model.make_predict_function.<locals>.predict_function at 0x7df0ec100c10> triggered tf.function retracing. Tracing is expensive and the excessive number of tracings could be due to (1) creating @tf.function repeatedly in a loop, (2) passing tensors with different shapes, (3) passing Python objects instead of tensors. For (1), please define your @tf.function outside of the loop. For (2), @tf.function has reduce_retracing=True option that can avoid unnecessary retracing. For (3), please refer to https://www.tensorflow.org/guide/function#controlling_retracing and https://www.tensorflow.org/api_docs/python/tf/function for  more details.\n"
          ]
        },
        {
          "output_type": "stream",
          "name": "stdout",
          "text": [
            "1/1 [==============================] - 0s 43ms/step\n"
          ]
        },
        {
          "output_type": "display_data",
          "data": {
            "text/plain": [
              "<Figure size 640x480 with 1 Axes>"
            ],
            "image/png": "[encoded data removed]"
          },
          "metadata": {}
        }
      ],
      "source": [
        "# 그래프로 확인해 봅니다.\n",
        "\n",
        "plt.scatter(x, y)\n",
        "plt.plot(x, model.predict(x),'r')\n",
        "plt.show()"
      ]
    },
    {
      "cell_type": "code",
      "execution_count": 15,
      "id": "e4b6209f",
      "metadata": {
        "id": "e4b6209f",
        "outputId": "4f7b0cc4-a7c3-4fdc-8d63-54987d7e7116",
        "colab": {
          "base_uri": "https://localhost:8080/"
        }
      },
      "outputs": [
        {
          "output_type": "stream",
          "name": "stderr",
          "text": [
            "WARNING:tensorflow:6 out of the last 6 calls to <function Model.make_predict_function.<locals>.predict_function at 0x7df0ec100c10> triggered tf.function retracing. Tracing is expensive and the excessive number of tracings could be due to (1) creating @tf.function repeatedly in a loop, (2) passing tensors with different shapes, (3) passing Python objects instead of tensors. For (1), please define your @tf.function outside of the loop. For (2), @tf.function has reduce_retracing=True option that can avoid unnecessary retracing. For (3), please refer to https://www.tensorflow.org/guide/function#controlling_retracing and https://www.tensorflow.org/api_docs/python/tf/function for  more details.\n"
          ]
        },
        {
          "output_type": "stream",
          "name": "stdout",
          "text": [
            "1/1 [==============================] - 0s 43ms/step\n",
            "7시간을 공부할 경우, 합격 예상 확률은 59.7%입니다\n"
          ]
        }
      ],
      "source": [
        "import tensorflow as tf\n",
        "\n",
        "# 임의의 학습 시간을 집어넣어 합격 예상 확률을 예측해 보겠습니다.\n",
        "\n",
        "hour = 7\n",
        "#prediction = model.predict([hour]) #텐서플로 2.9.0 까지만 가능\n",
        "\n",
        "input_data = tf.constant([[hour]])\n",
        "prediction = model.predict(input_data)[0][0]\n",
        "\n",
        "\n",
        "print(\"%.f시간을 공부할 경우, 합격 예상 확률은 %.01f%%입니다\" % (hour, prediction * 100))"
      ]
    },
    {
      "cell_type": "code",
      "execution_count": 15,
      "id": "bcffd088",
      "metadata": {
        "id": "bcffd088"
      },
      "outputs": [],
      "source": []
    }
  ],
  "metadata": {
    "colab": {
      "provenance": [],
      "include_colab_link": true
    },
    "kernelspec": {
      "display_name": "Python 3",
      "name": "python3"
    },
    "language_info": {
      "codemirror_mode": {
        "name": "ipython",
        "version": 3
      },
      "file_extension": ".py",
      "mimetype": "text/x-python",
      "name": "python",
      "nbconvert_exporter": "python",
      "pygments_lexer": "ipython3",
      "version": "3.9.7"
    }
  },
  "nbformat": 4,
  "nbformat_minor": 5
}